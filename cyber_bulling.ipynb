{
  "cells": [
    {
      "cell_type": "markdown",
      "metadata": {
        "id": "6cit4xifHYQv"
      },
      "source": [
        " **Bangla Cyberbullying Classifier**"
      ]
    },
    {
      "cell_type": "code",
      "execution_count": 32,
      "metadata": {
        "id": "UKlVZUOLuqCC"
      },
      "outputs": [],
      "source": [
        "import os\n",
        "import nltk\n",
        "import pandas as pd\n",
        "import re"
      ]
    },
    {
      "cell_type": "code",
      "execution_count": 33,
      "metadata": {
        "colab": {
          "base_uri": "https://localhost:8080/",
          "height": 206
        },
        "id": "1IPo8vZRJv8F",
        "outputId": "1f68d59f-f14a-4084-d937-50a0dee5bd52"
      },
      "outputs": [
        {
          "data": {
            "text/html": [
              "<div>\n",
              "<style scoped>\n",
              "    .dataframe tbody tr th:only-of-type {\n",
              "        vertical-align: middle;\n",
              "    }\n",
              "\n",
              "    .dataframe tbody tr th {\n",
              "        vertical-align: top;\n",
              "    }\n",
              "\n",
              "    .dataframe thead th {\n",
              "        text-align: right;\n",
              "    }\n",
              "</style>\n",
              "<table border=\"1\" class=\"dataframe\">\n",
              "  <thead>\n",
              "    <tr style=\"text-align: right;\">\n",
              "      <th></th>\n",
              "      <th>SL</th>\n",
              "      <th>Description</th>\n",
              "      <th>Label</th>\n",
              "      <th>category_id</th>\n",
              "    </tr>\n",
              "  </thead>\n",
              "  <tbody>\n",
              "    <tr>\n",
              "      <th>0</th>\n",
              "      <td>0</td>\n",
              "      <td>ওই হালার পুত এখন কি মদ খাওয়ার সময় রাতের বেলা...</td>\n",
              "      <td>sexual</td>\n",
              "      <td>0</td>\n",
              "    </tr>\n",
              "    <tr>\n",
              "      <th>1</th>\n",
              "      <td>1</td>\n",
              "      <td>আপনার জন্ম প্রক্রিয়ার সময় আপনার মায়ের ভিতর কি ...</td>\n",
              "      <td>sexual</td>\n",
              "      <td>0</td>\n",
              "    </tr>\n",
              "    <tr>\n",
              "      <th>2</th>\n",
              "      <td>2</td>\n",
              "      <td>ধজভংগ দের আর ভায়াগ্রা লাগবো না। ধংস হোক এই সব ...</td>\n",
              "      <td>sexual</td>\n",
              "      <td>0</td>\n",
              "    </tr>\n",
              "    <tr>\n",
              "      <th>3</th>\n",
              "      <td>3</td>\n",
              "      <td>বোকাচোদা একটা।</td>\n",
              "      <td>sexual</td>\n",
              "      <td>0</td>\n",
              "    </tr>\n",
              "    <tr>\n",
              "      <th>4</th>\n",
              "      <td>4</td>\n",
              "      <td>তোর দেশে ফেরার অপেক্ষায় রইলাম। জেলে একটা কামরা...</td>\n",
              "      <td>sexual</td>\n",
              "      <td>0</td>\n",
              "    </tr>\n",
              "  </tbody>\n",
              "</table>\n",
              "</div>"
            ],
            "text/plain": [
              "   SL                                        Description   Label  category_id\n",
              "0   0  ওই হালার পুত এখন কি মদ খাওয়ার সময় রাতের বেলা...  sexual            0\n",
              "1   1  আপনার জন্ম প্রক্রিয়ার সময় আপনার মায়ের ভিতর কি ...  sexual            0\n",
              "2   2  ধজভংগ দের আর ভায়াগ্রা লাগবো না। ধংস হোক এই সব ...  sexual            0\n",
              "3   3                                     বোকাচোদা একটা।  sexual            0\n",
              "4   4  তোর দেশে ফেরার অপেক্ষায় রইলাম। জেলে একটা কামরা...  sexual            0"
            ]
          },
          "execution_count": 33,
          "metadata": {},
          "output_type": "execute_result"
        }
      ],
      "source": [
        "import pandas as pd\n",
        "\n",
        "# Define your class-to-ID mapping\n",
        "classDict = {'sexual': 0, 'Threat': 1, 'Political': 2, 'troll': 3, 'Neutral': 4}\n",
        "\n",
        "# Read the Excel file into a DataFrame\n",
        "df = pd.read_excel(\"CyberBulling_Dataset_Bangla.xlsx\")\n",
        "df.columns = ['SL', 'Description', 'Label']\n",
        "\n",
        "# Create the 'category_id' column by mapping labels to IDs\n",
        "df['category_id'] = df['Label'].map(classDict)\n",
        "\n",
        "# Display the DataFrame\n",
        "df.head()"
      ]
    },
    {
      "cell_type": "code",
      "execution_count": 34,
      "metadata": {
        "colab": {
          "base_uri": "https://localhost:8080/",
          "height": 394
        },
        "id": "uEEbYS9JKBgP",
        "outputId": "8b3f4707-d9cf-4f59-b179-8db6b472f8d3"
      },
      "outputs": [
        {
          "data": {
            "text/html": [
              "<div>\n",
              "<style scoped>\n",
              "    .dataframe tbody tr th:only-of-type {\n",
              "        vertical-align: middle;\n",
              "    }\n",
              "\n",
              "    .dataframe tbody tr th {\n",
              "        vertical-align: top;\n",
              "    }\n",
              "\n",
              "    .dataframe thead th {\n",
              "        text-align: right;\n",
              "    }\n",
              "</style>\n",
              "<table border=\"1\" class=\"dataframe\">\n",
              "  <thead>\n",
              "    <tr style=\"text-align: right;\">\n",
              "      <th></th>\n",
              "      <th>SL</th>\n",
              "      <th>Description</th>\n",
              "      <th>Label</th>\n",
              "      <th>category_id</th>\n",
              "    </tr>\n",
              "  </thead>\n",
              "  <tbody>\n",
              "    <tr>\n",
              "      <th>count</th>\n",
              "      <td>6010.00000</td>\n",
              "      <td>6010</td>\n",
              "      <td>6010</td>\n",
              "      <td>6010.000000</td>\n",
              "    </tr>\n",
              "    <tr>\n",
              "      <th>unique</th>\n",
              "      <td>NaN</td>\n",
              "      <td>5860</td>\n",
              "      <td>5</td>\n",
              "      <td>NaN</td>\n",
              "    </tr>\n",
              "    <tr>\n",
              "      <th>top</th>\n",
              "      <td>NaN</td>\n",
              "      <td>এই কাংকির ছেলে রাজাকার সবাই তো কুত্তালীগ করে এ...</td>\n",
              "      <td>Political</td>\n",
              "      <td>NaN</td>\n",
              "    </tr>\n",
              "    <tr>\n",
              "      <th>freq</th>\n",
              "      <td>NaN</td>\n",
              "      <td>8</td>\n",
              "      <td>1205</td>\n",
              "      <td>NaN</td>\n",
              "    </tr>\n",
              "    <tr>\n",
              "      <th>mean</th>\n",
              "      <td>3004.50000</td>\n",
              "      <td>NaN</td>\n",
              "      <td>NaN</td>\n",
              "      <td>2.000166</td>\n",
              "    </tr>\n",
              "    <tr>\n",
              "      <th>std</th>\n",
              "      <td>1735.08189</td>\n",
              "      <td>NaN</td>\n",
              "      <td>NaN</td>\n",
              "      <td>1.413802</td>\n",
              "    </tr>\n",
              "    <tr>\n",
              "      <th>min</th>\n",
              "      <td>0.00000</td>\n",
              "      <td>NaN</td>\n",
              "      <td>NaN</td>\n",
              "      <td>0.000000</td>\n",
              "    </tr>\n",
              "    <tr>\n",
              "      <th>25%</th>\n",
              "      <td>1502.25000</td>\n",
              "      <td>NaN</td>\n",
              "      <td>NaN</td>\n",
              "      <td>1.000000</td>\n",
              "    </tr>\n",
              "    <tr>\n",
              "      <th>50%</th>\n",
              "      <td>3004.50000</td>\n",
              "      <td>NaN</td>\n",
              "      <td>NaN</td>\n",
              "      <td>2.000000</td>\n",
              "    </tr>\n",
              "    <tr>\n",
              "      <th>75%</th>\n",
              "      <td>4506.75000</td>\n",
              "      <td>NaN</td>\n",
              "      <td>NaN</td>\n",
              "      <td>3.000000</td>\n",
              "    </tr>\n",
              "    <tr>\n",
              "      <th>max</th>\n",
              "      <td>6009.00000</td>\n",
              "      <td>NaN</td>\n",
              "      <td>NaN</td>\n",
              "      <td>4.000000</td>\n",
              "    </tr>\n",
              "  </tbody>\n",
              "</table>\n",
              "</div>"
            ],
            "text/plain": [
              "                SL                                        Description  \\\n",
              "count   6010.00000                                               6010   \n",
              "unique         NaN                                               5860   \n",
              "top            NaN  এই কাংকির ছেলে রাজাকার সবাই তো কুত্তালীগ করে এ...   \n",
              "freq           NaN                                                  8   \n",
              "mean    3004.50000                                                NaN   \n",
              "std     1735.08189                                                NaN   \n",
              "min        0.00000                                                NaN   \n",
              "25%     1502.25000                                                NaN   \n",
              "50%     3004.50000                                                NaN   \n",
              "75%     4506.75000                                                NaN   \n",
              "max     6009.00000                                                NaN   \n",
              "\n",
              "            Label  category_id  \n",
              "count        6010  6010.000000  \n",
              "unique          5          NaN  \n",
              "top     Political          NaN  \n",
              "freq         1205          NaN  \n",
              "mean          NaN     2.000166  \n",
              "std           NaN     1.413802  \n",
              "min           NaN     0.000000  \n",
              "25%           NaN     1.000000  \n",
              "50%           NaN     2.000000  \n",
              "75%           NaN     3.000000  \n",
              "max           NaN     4.000000  "
            ]
          },
          "execution_count": 34,
          "metadata": {},
          "output_type": "execute_result"
        }
      ],
      "source": [
        "df.describe(include='all')"
      ]
    },
    {
      "cell_type": "code",
      "execution_count": 35,
      "metadata": {
        "colab": {
          "base_uri": "https://localhost:8080/",
          "height": 447
        },
        "id": "bC58ELh6KINh",
        "outputId": "4192cb5a-1b19-48be-af73-0523558fdd3f"
      },
      "outputs": [
        {
          "data": {
            "text/plain": [
              "<Axes: xlabel='Label'>"
            ]
          },
          "execution_count": 35,
          "metadata": {},
          "output_type": "execute_result"
        },
        {
          "data": {
            "image/png": "[encoded data removed]",
            "text/plain": [
              "<Figure size 640x480 with 1 Axes>"
            ]
          },
          "metadata": {},
          "output_type": "display_data"
        }
      ],
      "source": [
        "df['Label'].value_counts().plot(kind=\"bar\", rot=0)"
      ]
    },
    {
      "cell_type": "code",
      "execution_count": 36,
      "metadata": {
        "id": "7OjTRGRTKR7y"
      },
      "outputs": [],
      "source": [
        "#data Cleaning\n",
        "def clean_sentence(sent):\n",
        "\n",
        "    sent = re.sub('[?.`*^()!°¢܌Ͱ̰ߒנ~×Ҡߘ:ҰߑÍ|।;!,&%\\'@#$><A-Za-z0+-9=./''\"\"_০-৯]', '', sent)\n",
        "    sent = re.sub(r'(\\W)(?=\\1)', '', sent)\n",
        "    sent = re.sub(r'https?:\\/\\/.*[\\r\\n]*', '', sent, flags=re.MULTILINE)\n",
        "    sent = re.sub(r'\\<a href', ' ', sent)\n",
        "    sent = re.sub(r'&amp;', '', sent)\n",
        "    sent = re.sub(r'<br />', ' ', sent)\n",
        "    sent = re.sub(r'\\'', ' ', sent)\n",
        "    sent = re.sub(r'ߑͰߑ̰ߒנ', '', sent)\n",
        "    sent = re.sub(r'ߎɰߎɰߎɍ', '', sent)\n",
        "\n",
        "    sent = sent.strip()\n",
        "    return sent"
      ]
    },
    {
      "cell_type": "code",
      "execution_count": 37,
      "metadata": {
        "colab": {
          "base_uri": "https://localhost:8080/",
          "height": 35
        },
        "id": "kCqDczJnKbWc",
        "outputId": "12f1a6e7-f13e-4d64-d0d8-af2daee75663"
      },
      "outputs": [
        {
          "data": {
            "text/plain": [
              "'কুত্তার ঘরে কি ঘোড়ার বাচ্চা আশা করা যায়?? মুরগী কবির এর জারজ এর কাছ থেকে এর চেয়ে আর কি আশা করা যায়?'"
            ]
          },
          "execution_count": 37,
          "metadata": {},
          "output_type": "execute_result"
        }
      ],
      "source": [
        "df.loc[15,'Description']"
      ]
    },
    {
      "cell_type": "code",
      "execution_count": 38,
      "metadata": {
        "colab": {
          "base_uri": "https://localhost:8080/",
          "height": 35
        },
        "id": "pthpu0J8Komo",
        "outputId": "651b4acd-00f4-4527-b0e3-1ca012725ad2"
      },
      "outputs": [
        {
          "data": {
            "text/plain": [
              "'কুত্তার ঘরে কি ঘোড়ার বাচ্চা আশা করা যায় মুরগী কবির এর জারজ এর কাছ থেকে এর চেয়ে আর কি আশা করা যায়'"
            ]
          },
          "execution_count": 38,
          "metadata": {},
          "output_type": "execute_result"
        }
      ],
      "source": [
        "for i, sent  in enumerate(df['Description'].tolist()):\n",
        "    df.loc[i,'clean_sentence'] = clean_sentence(sent)\n",
        "test = df.loc[15,'clean_sentence']\n",
        "test"
      ]
    },
    {
      "cell_type": "code",
      "execution_count": 39,
      "metadata": {
        "id": "Y1lwcm3lKtPV"
      },
      "outputs": [],
      "source": [
        "#Sentence Tokenization\n",
        "def tokenized_data(sent):\n",
        "    tokenized_text = sent.split()\n",
        "    return tokenized_text"
      ]
    },
    {
      "cell_type": "code",
      "execution_count": 40,
      "metadata": {
        "id": "L4Xkee06LKHm"
      },
      "outputs": [],
      "source": [
        "stop_words = {'এ', 'হয়', 'কি', 'কী', 'এর', 'কে', 'যে', 'এই', 'বা', 'সব', 'টি', 'তা',\n",
        "       'সে', 'তাই', 'সেই', 'তার', 'আগে', 'যদি', 'আছে', 'আমি', 'এবং', 'করে', 'কার', 'এটি', 'হতে', 'যায়',\n",
        "       'আরও', 'যাক', 'খুব', 'উপর', 'পরে', 'হবে', 'কেন', 'কখন', 'সকল', 'হয়', 'ঠিক', 'একই', 'কোন',\n",
        "       'ছিল', 'খুবই', 'কোনো', 'অধীন', 'যারা', 'তারা', 'গুলি', 'তাকে', 'সেটা', 'সময়', 'আমার', 'আমরা', 'সবার',\n",
        "       'উভয়', 'একটা', 'আপনি', 'নিয়ে', 'একটি', 'বন্ধ', 'জন্য', 'শুধু', 'যেটা', 'উচিত', 'মাঝে', 'থেকে', 'করবে',\n",
        "       'আবার', 'উপরে', 'সেটি', 'কিছু', 'কারণ', 'যেমন', 'তিনি', 'মধ্যে', 'আমাকে', 'করছেন', 'তুলনা', 'তারপর',\n",
        "       'নিজেই', 'থাকার', 'নিজের', 'পারেন', 'একবার', 'সঙ্গে', 'ইচ্ছা', 'নীচের', 'এগুলো', 'আপনার', 'অধীনে', 'কিংবা',\n",
        "       'এখানে', 'তাহলে', 'কয়েক', 'জন্যে', 'হচ্ছে', 'তাদের', 'কোথায়', 'কিন্তু', 'নিজেকে', 'যতক্ষণ', 'আমাদের',\n",
        "       'দ্বারা', 'হয়েছে', ' সঙ্গে', 'সেখানে', 'কিভাবে', 'মাধ্যমে', 'নিজেদের', 'তুলনায়', 'প্রতিটি',\n",
        "       'তাদেরকে', 'ইত্যাদি', 'সম্পর্কে', 'সর্বাধিক', 'বিরুদ্ধে', 'অন্যান্য'}\n",
        "\n",
        "def remove_stop_words(text):\n",
        "    text = [w for w in text if not w in stop_words]\n",
        "    text = ' '.join(text)\n",
        "    return text"
      ]
    },
    {
      "cell_type": "code",
      "execution_count": 41,
      "metadata": {
        "colab": {
          "base_uri": "https://localhost:8080/"
        },
        "id": "Bqs2RFrkLM82",
        "outputId": "3af78159-10df-448e-eba1-de84a01b2399"
      },
      "outputs": [
        {
          "name": "stdout",
          "output_type": "stream",
          "text": [
            "befor : কুত্তার ঘরে কি ঘোড়ার বাচ্চা আশা করা যায় মুরগী কবির এর জারজ এর কাছ থেকে এর চেয়ে আর কি আশা করা যায়\n",
            "after : কুত্তার ঘরে ঘোড়ার বাচ্চা আশা করা মুরগী কবির জারজ কাছ চেয়ে আর আশা করা\n"
          ]
        }
      ],
      "source": [
        "t_data = tokenized_data(test)\n",
        "r_word = remove_stop_words(t_data)\n",
        "print('befor :', test)\n",
        "print('after :', r_word)"
      ]
    },
    {
      "cell_type": "code",
      "execution_count": 42,
      "metadata": {
        "id": "yhGx0BVyLpiq"
      },
      "outputs": [],
      "source": [
        "df['clean_data'] = [remove_stop_words(tokenized_data(sent)) for sent in df['clean_sentence'].tolist()]\n",
        "#del df['sentence']\n",
        "df.to_csv('cyber_bullying_clean_data.csv', encoding='utf-8', index=False)"
      ]
    },
    {
      "cell_type": "code",
      "execution_count": 43,
      "metadata": {
        "colab": {
          "base_uri": "https://localhost:8080/"
        },
        "id": "iV89tlqLMOqM",
        "outputId": "5f2cd5a7-4e25-42ae-efb8-813c586bf7aa"
      },
      "outputs": [
        {
          "name": "stdout",
          "output_type": "stream",
          "text": [
            "92082\n"
          ]
        }
      ],
      "source": [
        "#word2vec tranform by n-gram\n",
        "from sklearn.feature_extraction.text import CountVectorizer\n",
        "stpGram = {}\n",
        "word_vectorizerGram = CountVectorizer(analyzer='word', ngram_range=(1, 2), min_df=1, lowercase=False,\n",
        "                                          token_pattern=u'[\\S]+', tokenizer=None)\n",
        "\n",
        "\n",
        "word_vectorizerGram.fit_transform(df['clean_sentence'])\n",
        "stpGram = word_vectorizerGram.get_feature_names_out()\n",
        "\n",
        "print(len(stpGram))"
      ]
    },
    {
      "cell_type": "code",
      "execution_count": 44,
      "metadata": {
        "colab": {
          "base_uri": "https://localhost:8080/"
        },
        "id": "N1eVtkYBPAIL",
        "outputId": "06631715-fe5e-4b94-d3c7-384b68e1b319"
      },
      "outputs": [
        {
          "name": "stdout",
          "output_type": "stream",
          "text": [
            "83009\n",
            "sample of bigram :  অংশ হিসাবে\n"
          ]
        }
      ],
      "source": [
        "word_vectorizerGram_rsw = CountVectorizer(analyzer='word', ngram_range=(1, 2), min_df=1, lowercase=False,\n",
        "                                          token_pattern=u'[\\S]+', tokenizer=None)\n",
        "\n",
        "word_vectorizerGram_rsw.fit_transform(df['clean_data'])\n",
        "stpGram_rsw = word_vectorizerGram_rsw.get_feature_names_out()\n",
        "\n",
        "print(len(stpGram_rsw))\n",
        "print('sample of bigram : ',stpGram_rsw[45])"
      ]
    },
    {
      "cell_type": "code",
      "execution_count": 45,
      "metadata": {
        "id": "B1KvpawhPTk-"
      },
      "outputs": [],
      "source": [
        "import numpy as np\n",
        "def sentence_to_vector_transform(line, stpGram):\n",
        "    vec = CountVectorizer(analyzer='word', ngram_range=(1, 2), min_df=1, lowercase=False, token_pattern=u'[\\S]+',\n",
        "                            tokenizer=None, vocabulary=stpGram)\n",
        "    tList = []\n",
        "    tList.append(line)\n",
        "    sent = vec.transform(tList)\n",
        "    sent = sent.toarray()\n",
        "    sent = np.squeeze(np.asarray(sent))\n",
        "    return sent"
      ]
    },
    {
      "cell_type": "code",
      "execution_count": 53,
      "metadata": {
        "colab": {
          "base_uri": "https://localhost:8080/"
        },
        "id": "HbDhhz5YPtuO",
        "outputId": "da648435-ca7c-4d5a-e515-3f0391400a41"
      },
      "outputs": [
        {
          "data": {
            "text/plain": [
              "[array([0, 0, 0, ..., 0, 0, 0], dtype=int64),\n",
              " array([0, 0, 0, ..., 0, 0, 0], dtype=int64),\n",
              " array([0, 0, 0, ..., 0, 0, 0], dtype=int64),\n",
              " array([0, 0, 0, ..., 0, 0, 0], dtype=int64)]"
            ]
          },
          "execution_count": 53,
          "metadata": {},
          "output_type": "execute_result"
        }
      ],
      "source": [
        "def sentence_to_vector(data, stpGram):\n",
        "    dataForSVM = []\n",
        "    colName = []\n",
        "    dataVec = []\n",
        "    labels = []\n",
        "    dataVec.append(colName)\n",
        "\n",
        "    for idx, sent in enumerate(data):\n",
        "\n",
        "        sent = sentence_to_vector_transform(sent, stpGram)\n",
        "        sentLst = list(sent)\n",
        "        dtList = []\n",
        "        try:\n",
        "            dtList.append(df.loc[idx,'category_id'])\n",
        "            labels.append(df.loc[idx,'category_id'])\n",
        "            dataForSVM.append(sent)\n",
        "        except:\n",
        "            print(idx)\n",
        "        for item in sentLst:\n",
        "            dtList.append(item)\n",
        "        lengthOfEV = len(dtList)\n",
        "        dataVec.append(dtList)\n",
        "\n",
        "    return dataForSVM ,labels\n",
        "dataForSVM ,labels= sentence_to_vector(df['clean_data'], stpGram_rsw)\n",
        "dataForSVM[0:4]"
      ]
    },
    {
      "cell_type": "code",
      "execution_count": 54,
      "metadata": {
        "id": "zydJnYygQVjq"
      },
      "outputs": [],
      "source": [
        "#train-test split\n",
        "from sklearn.model_selection import train_test_split\n",
        "\n",
        "X_train, X_test, y_train, y_test = train_test_split(dataForSVM, labels, test_size=0.3, random_state=0)"
      ]
    },
    {
      "cell_type": "code",
      "execution_count": 56,
      "metadata": {},
      "outputs": [
        {
          "name": "stdout",
          "output_type": "stream",
          "text": [
            "[0 0 0 ... 0 0 0]\n"
          ]
        }
      ],
      "source": [
        "print(X_train[0])"
      ]
    },
    {
      "cell_type": "code",
      "execution_count": 57,
      "metadata": {
        "id": "HNCXcB9PQpo1"
      },
      "outputs": [],
      "source": [
        "#Training\n",
        "from sklearn.svm import SVC\n",
        "C = 1.0  # SVM regularization parameter\n",
        "linear_svc = SVC(kernel='linear', C=C)\n",
        "linear_svc = linear_svc.fit(X_train, y_train)"
      ]
    },
    {
      "cell_type": "code",
      "execution_count": 62,
      "metadata": {},
      "outputs": [
        {
          "ename": "ImportError",
          "evalue": "cannot import name 'joblib' from 'sklearn.externals' (c:\\Users\\Jobair\\miniconda3\\envs\\my3.8env\\lib\\site-packages\\sklearn\\externals\\__init__.py)",
          "output_type": "error",
          "traceback": [
            "\u001b[1;31m---------------------------------------------------------------------------\u001b[0m",
            "\u001b[1;31mImportError\u001b[0m                               Traceback (most recent call last)",
            "Cell \u001b[1;32mIn[62], line 2\u001b[0m\n\u001b[0;32m      1\u001b[0m \u001b[39m#model Save\u001b[39;00m\n\u001b[1;32m----> 2\u001b[0m \u001b[39mfrom\u001b[39;00m \u001b[39msklearn\u001b[39;00m\u001b[39m.\u001b[39;00m\u001b[39mexternals\u001b[39;00m \u001b[39mimport\u001b[39;00m joblib\n\u001b[0;32m      3\u001b[0m filename \u001b[39m=\u001b[39m \u001b[39m'\u001b[39m\u001b[39msvc_model.sav\u001b[39m\u001b[39m'\u001b[39m\n\u001b[0;32m      4\u001b[0m joblib\u001b[39m.\u001b[39mdump(linear_svc, filename)\n",
            "\u001b[1;31mImportError\u001b[0m: cannot import name 'joblib' from 'sklearn.externals' (c:\\Users\\Jobair\\miniconda3\\envs\\my3.8env\\lib\\site-packages\\sklearn\\externals\\__init__.py)"
          ]
        }
      ],
      "source": [
        "#model Save\n",
        "from sklearn.externals import joblib\n",
        "filename = 'svc_model.sav'\n",
        "joblib.dump(linear_svc, filename)"
      ]
    },
    {
      "cell_type": "code",
      "execution_count": 58,
      "metadata": {},
      "outputs": [],
      "source": [
        "#ACC Testiing\n",
        "from sklearn import metrics\n",
        "from sklearn.metrics import confusion_matrix\n",
        "\n",
        "def calculate_accuracy(kernel, model):\n",
        "    y_pred = model.predict(X_test)\n",
        "    #print the accuracy score of the model\n",
        "    print(kernel + \" accuracy : \",metrics.accuracy_score(y_test, y_pred, normalize = True))\n",
        "    score = confusion_matrix(y_test, y_pred)\n",
        "    print('confusion_matrix: \\n', score)\n",
        "\n",
        "# from yellowbrick.classifier import ClassificationReport\n",
        "# # Instantiate the classification model and visualizer\n",
        "\n",
        "# def report(model):\n",
        "#     visualizer = ClassificationReport(model, classes=['Won','Loss'])\n",
        "#     visualizer.fit(X_train, y_train) # Fit the training data to the visualizer\n",
        "#     visualizer.score(X_test, y_test) # Evaluate the model on the test data\n",
        "#     g = visualizer.poof() # Draw/show/poof the data"
      ]
    },
    {
      "cell_type": "code",
      "execution_count": 59,
      "metadata": {},
      "outputs": [
        {
          "name": "stdout",
          "output_type": "stream",
          "text": [
            "linear accuracy :  0.6433721575152523\n",
            "confusion_matrix: \n",
            " [[193  15  16  70  68]\n",
            " [ 21 256   9  36  44]\n",
            " [ 14   9 233  44  57]\n",
            " [ 28  19  14 208  93]\n",
            " [ 14   8  15  49 270]]\n"
          ]
        }
      ],
      "source": [
        "calculate_accuracy(kernel='linear', model=linear_svc)\n",
        "#report(model=linear_svc)"
      ]
    }
  ],
  "metadata": {
    "colab": {
      "provenance": []
    },
    "kernelspec": {
      "display_name": "Python 3",
      "name": "python3"
    },
    "language_info": {
      "codemirror_mode": {
        "name": "ipython",
        "version": 3
      },
      "file_extension": ".py",
      "mimetype": "text/x-python",
      "name": "python",
      "nbconvert_exporter": "python",
      "pygments_lexer": "ipython3",
      "version": "3.8.17"
    }
  },
  "nbformat": 4,
  "nbformat_minor": 0
}
